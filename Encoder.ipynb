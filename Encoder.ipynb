from datasets import load_dataset

# Load IMDb dataset
dataset = load_dataset("imdb")

# Print structure and row counts
print(dataset)
print(f"Train rows: {len(dataset['train'])}")
print(f"Test rows: {len(dataset['test'])}")
print(f"Unsupervised rows: {len(dataset['unsupervised'])}")
print(f"Total rows: {sum(len(dataset[split]) for split in dataset)}")
